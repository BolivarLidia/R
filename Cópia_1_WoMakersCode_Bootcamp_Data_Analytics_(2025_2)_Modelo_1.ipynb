{
  "nbformat": 4,
  "nbformat_minor": 0,
  "metadata": {
    "colab": {
      "provenance": [],
      "include_colab_link": true
    },
    "kernelspec": {
      "name": "python3",
      "display_name": "Python 3"
    },
    "language_info": {
      "name": "python"
    }
  },
  "cells": [
    {
      "cell_type": "markdown",
      "metadata": {
        "id": "view-in-github",
        "colab_type": "text"
      },
      "source": [
        "<a href=\"https://colab.research.google.com/github/BolivarLidia/R/blob/main/C%C3%B3pia_1_WoMakersCode_Bootcamp_Data_Analytics_(2025_2)_Modelo_1.ipynb\" target=\"_parent\"><img src=\"https://colab.research.google.com/assets/colab-badge.svg\" alt=\"Open In Colab\"/></a>"
      ]
    },
    {
      "cell_type": "markdown",
      "source": [
        "DESAFIO 1\n",
        "\n",
        "Solicite o peso de uma encomenda e calcule o frete com base na faixa de peso:\n",
        "\n",
        "Até 1kg → R$5\n",
        "\n",
        "1 a 5kg → R$10\n",
        "\n",
        "Acima de 5kg → R$20"
      ],
      "metadata": {
        "id": "fZu819fMQNKI"
      }
    },
    {
      "cell_type": "code",
      "source": [
        "#Execute seu código aqui"
      ],
      "metadata": {
        "id": "tjM2VWBwQSJE"
      },
      "execution_count": null,
      "outputs": []
    },
    {
      "cell_type": "code",
      "source": [
        "peso = float (input(\"Informe o peso da encomenda em kg: \"))\n",
        "if peso <= 1:\n",
        "  frete = 5.00\n",
        "elif peso <= 5:\n",
        "  frete = 10.00\n",
        "else:\n",
        "  frete = 20.00\n",
        "print (f\"O valor do frete é: R${frete:.2f}\")"
      ],
      "metadata": {
        "id": "MSGqEezmIZdc",
        "colab": {
          "base_uri": "https://localhost:8080/"
        },
        "outputId": "d60750f5-c309-4415-df87-2bd079c1df92"
      },
      "execution_count": null,
      "outputs": [
        {
          "output_type": "stream",
          "name": "stdout",
          "text": [
            "Informe o peso da encomenda em kg: 5\n",
            "O valor do frete é: R$10.00\n"
          ]
        }
      ]
    },
    {
      "cell_type": "markdown",
      "source": [
        "DESAFIO 2\n",
        "\n",
        "Escreva um programa que receba uma string e conte quantas consoantes ela contém (ignorando espaços e pontuação)."
      ],
      "metadata": {
        "id": "_m8mBod2g9Iv"
      }
    },
    {
      "cell_type": "code",
      "source": [
        "texto = input (\"digite uma frase\")\n",
        "texto = \"womakers code\"\n",
        "vogais = \"a,e,i,o,u\"\n",
        "consoantes = 0\n",
        "for caractere in texto:\n",
        "  if caractere.isalpha() and caractere not in vogais:\n",
        "    consoantes +=1\n",
        "print (f\"número de consoantes: {consoantes}\")\n"
      ],
      "metadata": {
        "id": "G3MkSdjIfMay",
        "colab": {
          "base_uri": "https://localhost:8080/"
        },
        "outputId": "0f41a776-8500-473a-e79b-92fbf399f5b8"
      },
      "execution_count": null,
      "outputs": [
        {
          "output_type": "stream",
          "name": "stdout",
          "text": [
            "digite uma frasewomarkers code\n",
            "número de consoantes: 7\n"
          ]
        }
      ]
    },
    {
      "cell_type": "code",
      "source": [],
      "metadata": {
        "id": "xy9yHXobjW6d"
      },
      "execution_count": null,
      "outputs": []
    },
    {
      "cell_type": "markdown",
      "source": [
        "DESAFIO 3\n",
        "\n",
        "O computador escolhe um número aleatório entre 1 e 100.\n",
        "O usuário tenta adivinhar, e o programa dá dicas como:\n",
        "\n",
        "\"Muito frio\" se a diferença for maior que 30\n",
        "\n",
        "\"Frio\" se a diferença for entre 16 e 30\n",
        "\n",
        "\"Quente\" se for entre 6 e 15\n",
        "\n",
        "\"Muito quente\" se for 5 ou menos\n",
        "\n",
        "Repita até o usuário acertar.\n",
        "\n"
      ],
      "metadata": {
        "id": "azEJl_Q6cFFz"
      }
    },
    {
      "cell_type": "code",
      "source": [
        "import random\n",
        "numero_secreto = random.randint(1, 100)\n",
        "\n",
        "print(\"Advinhe o numero entre 1 e 100\")\n",
        "while True:\n",
        "  try:\n",
        "   palpite = int(input(\"Digite o seu palpite: \"))\n",
        "  except ValueError:\n",
        "    print(\"Por favor, digite um numero valido\")\n",
        "    continue\n",
        "  if palpite == numero_secreto:\n",
        "    print(\"Parabéns, você acertou!\")\n",
        "    break\n",
        "  diferenca = abs(numero_secreto - palpite)\n",
        "  if diferenca > 30:\n",
        "    print(\"Muito frio\")\n",
        "  elif diferenca >= 16:\n",
        "    print(\"Frio\")\n",
        "  elif diferenca >= 6:\n",
        "    print(\"Quente\")\n",
        "  else:\n",
        "    print(\"Muito quente\")\n",
        "\n"
      ],
      "metadata": {
        "id": "4kz8g_Z5qGB1",
        "colab": {
          "base_uri": "https://localhost:8080/"
        },
        "outputId": "b970fe94-4349-4857-86aa-3e2ba496ffe1"
      },
      "execution_count": null,
      "outputs": [
        {
          "output_type": "stream",
          "name": "stdout",
          "text": [
            "Advinhe o numero entre 1 e 100\n",
            "Digite o seu palpite: 25\n",
            "Frio\n",
            "Digite o seu palpite: 75\n",
            "Frio\n",
            "Digite o seu palpite: 5\n",
            "Muito frio\n",
            "Digite o seu palpite: 80\n",
            "Muito frio\n",
            "Digite o seu palpite: 50\n",
            "Muito quente\n",
            "Digite o seu palpite: 55\n",
            "Quente\n",
            "Digite o seu palpite: 45\n",
            "Muito quente\n",
            "Digite o seu palpite: 48\n",
            "Parabéns, você acertou!\n"
          ]
        }
      ]
    },
    {
      "cell_type": "markdown",
      "source": [],
      "metadata": {
        "id": "U7ro7Bp1-1BZ"
      }
    },
    {
      "cell_type": "markdown",
      "source": [
        "DESAFIO 4\n",
        "\n",
        "Crie um programa para gerenciar uma agenda simples com estas funcionalidades:\n",
        "\n",
        "Adicionar um contato (nome e telefone)\n",
        "\n",
        "Visualizar todos os contatos\n",
        "\n",
        "Buscar um contato pelo nome\n",
        "\n",
        "Remover um contato\n",
        "\n",
        "Sair do programa\n",
        "\n",
        "Use uma lista de dicionários para armazenar os contatos."
      ],
      "metadata": {
        "id": "qk4Gw-GAqFjY"
      }
    },
    {
      "cell_type": "code",
      "source": [
        "def menu():\n",
        "  print(\"\\n--- Menu ---\")\n",
        "  print(\"1. Adicionar um contato\")\n",
        "  print(\"2. Visualizar todos os contatos\")\n",
        "  print(\"3. Buscar um contato pelo nome\")\n",
        "  print(\"4. Remover um contato\")\n",
        "  print(\"5. Sair do programa\")\n",
        "  return int(input(\"Escolha uma opção: \"))\n",
        "def adicionar_contato(agenda):\n",
        "  nome = input(\"Digite o nome do contato: \").strip()\n",
        "  telefone = input(\"Digite o telefone do contato: \").strip()\n",
        "  agenda.append({\"nome\": nome, \"telefone\": telefone})\n",
        "  print(\"Contato {nome} adicionado com sucesso!\")\n",
        "def visualizar (agenda):\n",
        "  if not agenda:\n",
        "    print (\"Agenda vazia\")\n",
        "    return\n",
        "  print(\"\\n--- Lista de contatos ---\")\n",
        "  for contato in agenda:\n",
        "    print(f\"Nome: {contato['nome']}, Telefone: {contato['telefone']}\")\n",
        "def buscar (agenda):\n",
        "  nome = input(\"Digite o nome do contato a ser buscado: \").strip()\n",
        "  if encontrados:\n",
        "    print(\"\\n--- Resultados ---\")\n",
        "    for contato in encontrados:\n",
        "      print(f\"Nome: {contato['nome']}, Telefone: {contato['telefone']}\")\n",
        "  else:\n",
        "    print(\"Contato não encontrado\")\n",
        "def remover (agenda):\n",
        "  nome = input(\"Nome do contato a remover: \").strip().lower()\n",
        "  for contato in agenda:\n",
        "    if contato[\"nome\"].lower() == nome:\n",
        "      agenda.remove(contato)\n",
        "      print(f\"Contato '{contato['nome']}' removido!\")\n",
        "      break\n",
        "    else:\n",
        "      print(\"Contato não encontrado\")\n",
        "\n",
        "def main():\n",
        "  agenda = []\n",
        "  while True:\n",
        "    opcao = menu()\n",
        "    if opcao == 1:\n",
        "      adicionar_contato (agenda)\n",
        "    elif opcao == 2:\n",
        "      visualizar (agenda)\n",
        "    elif opcao == 3:\n",
        "      buscar (agenda)\n",
        "    elif opcao == 4:\n",
        "      remover (agenda)\n",
        "    elif opcao == 5:\n",
        "      print(\"Saindo da agenda\")\n",
        "      break\n",
        "    else:\n",
        "      print(\"Opção inválida. Tente novamente.\")\n"
      ],
      "metadata": {
        "id": "FOtsBTYecOUJ"
      },
      "execution_count": null,
      "outputs": []
    },
    {
      "cell_type": "markdown",
      "source": [
        "DESAFIO 5\n",
        "\n",
        "Peça ao usuário o peso (kg) e a altura (m) e calcule o IMC = peso / altura².\n",
        "\n",
        "Mostre o valor do IMC e a classificação:\n",
        "\n",
        "Abaixo de 18.5: Abaixo do peso\n",
        "\n",
        "18.5 a 24.9: Peso normal\n",
        "\n",
        "25 a 29.9: Sobrepeso\n",
        "\n",
        "30 ou mais: Obesidade"
      ],
      "metadata": {
        "id": "cpVCv8m5QNm9"
      }
    },
    {
      "cell_type": "code",
      "source": [
        "try:\n",
        "  peso = float(input(\"Digite seu peso em kg: \").replace(\",\", \".\"))\n",
        "  altura = float(input(\"Digite sua altura em metros: \").replace(\",\", \".\"))\n",
        "  imc = peso / (altura ** 2)\n",
        "except ValueError:\n",
        "  print(\"Por favor, digite valores válidos para peso e altura.\")\n",
        "else:\n",
        "  print(f\"Seu IMC é: {imc:.2f}\")\n",
        "if imc < 18.5:\n",
        "  print(\"Classificação: Abaixo do peso\")\n",
        "elif imc < 25:\n",
        "  print(\"Classificação: Peso normal\")\n",
        "elif imc < 30:\n",
        "  print(\"Classificação: Sobrepeso\")\n",
        "else:\n",
        "  print(\"Classificação: Obesidade\")"
      ],
      "metadata": {
        "id": "rGHbvDFVcGzy",
        "colab": {
          "base_uri": "https://localhost:8080/"
        },
        "outputId": "33e95953-e32d-416d-cb2a-1093ad30dd6a"
      },
      "execution_count": null,
      "outputs": [
        {
          "output_type": "stream",
          "name": "stdout",
          "text": [
            "Digite seu peso em kg: 59,9\n",
            "Digite sua altura em metros: 1,70\n",
            "Seu IMC é: 20.73\n",
            "Classificação: Peso normal\n"
          ]
        }
      ]
    }
  ]
}